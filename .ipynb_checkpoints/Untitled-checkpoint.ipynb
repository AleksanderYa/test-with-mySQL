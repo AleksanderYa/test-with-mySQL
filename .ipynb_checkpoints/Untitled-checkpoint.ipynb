{
 "cells": [
  {
   "cell_type": "markdown",
   "metadata": {},
   "source": [
    "# ----------------------------------Work-------------------------\n"
   ]
  },
  {
   "cell_type": "code",
   "execution_count": 138,
   "metadata": {},
   "outputs": [],
   "source": [
    "import pymysql"
   ]
  },
  {
   "cell_type": "code",
   "execution_count": 139,
   "metadata": {},
   "outputs": [],
   "source": [
    "def connected(func):\n",
    "    def wrapper(*arg, **kwarg):\n",
    "        try:\n",
    "            connect = pymysql.connect(\n",
    "                host='localhost',\n",
    "                user='root',\n",
    "                password='37112202',\n",
    "                database='test_db'\n",
    "            )\n",
    "            print('*'*38)\n",
    "            print('Connection to base test_db succerfull!')\n",
    "            print('*'*38)\n",
    "            func(connect, *arg, **kwarg)\n",
    "        except Exception as e:\n",
    "            print('*'*38)\n",
    "            print(e)\n",
    "            print('*'*38)\n",
    "    return wrapper"
   ]
  },
  {
   "cell_type": "code",
   "execution_count": 140,
   "metadata": {},
   "outputs": [],
   "source": [
    "# Проіерить версию\n",
    "@connected\n",
    "def version_db(connect):\n",
    "    with connect:\n",
    "        cur = connect.cursor()\n",
    "        cur.execute(\"SELECT VERSION()\")\n",
    "        version = cur.fetchone()\n",
    "        print(\"Database version: {}\".format(version[0]))\n",
    "        print('*'*38)\n",
    "        \n",
    "        \n",
    "# Прочитать с бази\n",
    "@connected\n",
    "def work_with_base(connect, query_text, commit=False):\n",
    "    '''\n",
    "    Функция отправляет запрос на SQL сервер,\n",
    "    query_text - текс запроса\n",
    "    commit - булевое значение по факту False, когда тру делается комит, который нужен, для записи и \\\n",
    "    обновления обновления данных\n",
    "    '''\n",
    "    with connect:\n",
    "        cur = connect.cursor()\n",
    "        cur.execute(query_text)\n",
    "        if commit:\n",
    "            connect.commit()\n",
    "            print(\"Commit done\")\n",
    "            print('*'*38)\n",
    "        print(\"Query done\")\n",
    "        print('*'*38)\n",
    "\n",
    "# Записать в базу\n",
    "# \n",
    "# \n",
    "# \n",
    "# \n"
   ]
  },
  {
   "cell_type": "code",
   "execution_count": 141,
   "metadata": {},
   "outputs": [
    {
     "name": "stdout",
     "output_type": "stream",
     "text": [
      "**************************************\n",
      "Connection to base test_db succerfull!\n",
      "**************************************\n",
      "Database version: 5.7.28-log\n",
      "**************************************\n"
     ]
    }
   ],
   "source": [
    "version_db()"
   ]
  },
  {
   "cell_type": "code",
   "execution_count": 142,
   "metadata": {},
   "outputs": [
    {
     "name": "stdout",
     "output_type": "stream",
     "text": [
      "**************************************\n",
      "Connection to base test_db succerfull!\n",
      "**************************************\n",
      "Commit done\n",
      "**************************************\n",
      "Query done\n",
      "**************************************\n"
     ]
    }
   ],
   "source": [
    "# query = \"\"\"CREATE TABLE EMPLOYEE (\n",
    "#    FIRST_NAME  CHAR(20) NOT NULL,\n",
    "#    LAST_NAME  CHAR(20),\n",
    "#    AGE INT,  \n",
    "#    SEX CHAR(1),\n",
    "#    INCOME FLOAT )\"\"\"\n",
    "query = \"\"\"INSERT INTO EMPLOYEE(FIRST_NAME,\n",
    "   LAST_NAME, AGE, SEX, INCOME)\n",
    "   VALUES ('Mac', 'Mohan', 20, 'M', 2000)\"\"\"\n",
    "work_with_base(query, com=True)"
   ]
  },
  {
   "cell_type": "markdown",
   "metadata": {},
   "source": [
    "## ------------------------------------End work---------------------------------------- \n"
   ]
  },
  {
   "cell_type": "code",
   "execution_count": null,
   "metadata": {},
   "outputs": [],
   "source": [
    " "
   ]
  },
  {
   "cell_type": "markdown",
   "metadata": {},
   "source": [
    "-----------------------------------------------------------------------------------"
   ]
  },
  {
   "cell_type": "code",
   "execution_count": 49,
   "metadata": {},
   "outputs": [],
   "source": [
    "\n",
    "        \n",
    "            "
   ]
  },
  {
   "cell_type": "code",
   "execution_count": 52,
   "metadata": {},
   "outputs": [],
   "source": []
  },
  {
   "cell_type": "code",
   "execution_count": 54,
   "metadata": {},
   "outputs": [
    {
     "name": "stdout",
     "output_type": "stream",
     "text": [
      "Database version: 5.7.28-log\n"
     ]
    }
   ],
   "source": []
  },
  {
   "cell_type": "markdown",
   "metadata": {},
   "source": [
    "### ------------------------------ Test -----------------------------------------------------"
   ]
  },
  {
   "cell_type": "code",
   "execution_count": 24,
   "metadata": {},
   "outputs": [],
   "source": [
    "def decorator_function(func):\n",
    "    def wrapper():\n",
    "        print('Функция-обёртка!')\n",
    "        print('Оборачиваемая функция: {}'.format(func))\n",
    "        print('Выполняем обёрнутую функцию...')\n",
    "        func()\n",
    "        print('Выходим из обёртки')\n",
    "    return wrapper"
   ]
  },
  {
   "cell_type": "code",
   "execution_count": 25,
   "metadata": {},
   "outputs": [],
   "source": [
    "@decorator_function\n",
    "def hello_world():\n",
    "    print('Hello world!')"
   ]
  },
  {
   "cell_type": "code",
   "execution_count": 26,
   "metadata": {},
   "outputs": [
    {
     "name": "stdout",
     "output_type": "stream",
     "text": [
      "Функция-обёртка!\n",
      "Оборачиваемая функция: <function hello_world at 0x000000000922DAE8>\n",
      "Выполняем обёрнутую функцию...\n",
      "Hello world!\n",
      "Выходим из обёртки\n"
     ]
    }
   ],
   "source": [
    "hello_world()"
   ]
  },
  {
   "cell_type": "code",
   "execution_count": 134,
   "metadata": {},
   "outputs": [],
   "source": []
  },
  {
   "cell_type": "code",
   "execution_count": 135,
   "metadata": {},
   "outputs": [],
   "source": []
  },
  {
   "cell_type": "code",
   "execution_count": 137,
   "metadata": {},
   "outputs": [
    {
     "name": "stdout",
     "output_type": "stream",
     "text": [
      "**************************************\n",
      "Connection to base test_db succerfull!\n",
      "**************************************\n",
      "Commit done{}\n",
      "**************************************\n",
      "Query done{}\n",
      "**************************************\n"
     ]
    }
   ],
   "source": [
    "# query = \"\"\"CREATE TABLE EMPLOYEE (\n",
    "#    FIRST_NAME  CHAR(20) NOT NULL,\n",
    "#    LAST_NAME  CHAR(20),\n",
    "#    AGE INT,  \n",
    "#    SEX CHAR(1),\n",
    "#    INCOME FLOAT )\"\"\"\n",
    "query = \"\"\"INSERT INTO EMPLOYEE(FIRST_NAME,\n",
    "   LAST_NAME, AGE, SEX, INCOME)\n",
    "   VALUES ('Mac', 'Mohan', 20, 'M', 2000)\"\"\"\n",
    "work_with_base(query, com=True)"
   ]
  },
  {
   "cell_type": "code",
   "execution_count": null,
   "metadata": {},
   "outputs": [],
   "source": []
  }
 ],
 "metadata": {
  "kernelspec": {
   "display_name": "Python 3",
   "language": "python",
   "name": "python3"
  },
  "language_info": {
   "codemirror_mode": {
    "name": "ipython",
    "version": 3
   },
   "file_extension": ".py",
   "mimetype": "text/x-python",
   "name": "python",
   "nbconvert_exporter": "python",
   "pygments_lexer": "ipython3",
   "version": "3.6.5"
  }
 },
 "nbformat": 4,
 "nbformat_minor": 4
}
