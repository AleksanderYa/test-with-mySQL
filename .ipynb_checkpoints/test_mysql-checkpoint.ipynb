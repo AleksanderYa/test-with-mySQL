{
 "cells": [
  {
   "cell_type": "markdown",
   "metadata": {},
   "source": [
    "####  CREATE Database\n",
    "```\n",
    "CREATE DATABASE databasename; \n",
    "\n",
    "DROP DATABASE databasename; \n",
    "```\n",
    "####  CREATE TABLE Statement\n",
    "\n",
    "```\n",
    "CREATE TABLE table_name (\n",
    "    column1 datatype,\n",
    "    column2 datatype,\n",
    "    column3 datatype,\n",
    "   ....\n",
    "); \n",
    " \n",
    "CREATE TABLE new_table_name AS\n",
    "    SELECT column1, column2,...\n",
    "    FROM existing_table_name\n",
    "    WHERE ....; \n",
    "```    \n",
    "    NOT NULL - Ensures that a column cannot have a NULL value\n",
    "    UNIQUE - Ensures that all values in a column are different\n",
    "    PRIMARY KEY - A combination of a NOT NULL and UNIQUE. Uniquely identifies each row in a table\n",
    "    FOREIGN KEY - Prevents actions that would destroy links between tables\n",
    "    CHECK - Ensures that the values in a column satisfies a specific condition\n",
    "    DEFAULT - Sets a default value for a column if no value is specified\n",
    "    CREATE INDEX - Used to create and retrieve data from the database very quickly\n",
    "\n",
    "####  DROP TABLE Statement\n",
    "    DROP TABLE table_name; \n",
    "\n",
    "\n",
    "\n",
    "\n",
    "#### ALTER TABLE - ADD Column\n",
    "    ALTER TABLE table_name\n",
    "    ADD column_name datatype; \n",
    "\n",
    "#### ALTER TABLE - DROP COLUMN\n",
    "    ALTER TABLE table_name\n",
    "    DROP COLUMN column_name; \n",
    "\n",
    "#### ALTER TABLE - ALTER/MODIFY COLUMN\n",
    "    ALTER TABLE table_name\n",
    "    MODIFY COLUMN column_name datatype; \n",
    "\n",
    "\n"
   ]
  },
  {
   "cell_type": "markdown",
   "metadata": {},
   "source": [
    "### PyMySQL"
   ]
  },
  {
   "cell_type": "code",
   "execution_count": 1,
   "metadata": {},
   "outputs": [],
   "source": [
    "import pymysql\n",
    "\n",
    "def connected(func):\n",
    "    def wrapper(*arg, **kwarg):\n",
    "        try:\n",
    "            connect = pymysql.connect(\n",
    "                host='localhost',\n",
    "                user='root',\n",
    "                password='37112202',\n",
    "                database='test_db'\n",
    "            )\n",
    "            print('*'*38)\n",
    "            print('Connection to base test_db from pyMySQL succerfull!')\n",
    "            print('*'*38)\n",
    "            func(connect, *arg, **kwarg)\n",
    "        except Exception as e:\n",
    "            print('*'*38)\n",
    "            print(e)\n",
    "            print('*'*38)\n",
    "    return wrapper\n",
    "\n",
    "@connected\n",
    "def version_db(connect):\n",
    "    with connect:\n",
    "        cur = connect.cursor()\n",
    "        cur.execute(\"SELECT VERSION()\")\n",
    "        version = cur.fetchone()\n",
    "        print(\"Database version: {}\".format(version[0]))\n",
    "        print('*'*38)\n",
    "        \n",
    "        \n",
    "# Прочитать с бази\n",
    "@connected\n",
    "def work_with_base(connect, query_text, commit=False):\n",
    "    '''\n",
    "    Функция отправляет запрос на SQL сервер,\n",
    "    query_text - текс запроса\n",
    "    commit - булевое значение по факту False, когда тру делается комит, который нужен, для записи и \\\n",
    "    обновления обновления данных\n",
    "    '''\n",
    "    with connect:\n",
    "        cur = connect.cursor()\n",
    "        cur.execute(query_text)\n",
    "        if commit:\n",
    "            connect.commit()\n",
    "            print(\"Commit done\")\n",
    "            print('*'*38)\n",
    "        print(\"Query done\")\n",
    "        print('*'*38)"
   ]
  },
  {
   "cell_type": "code",
   "execution_count": 3,
   "metadata": {},
   "outputs": [],
   "source": [
    "# Проіерить версию\n",
    "\n",
    "\n",
    "#  Конект к базе  @connected\n",
    "\n",
    "#  Создать таблицу  \n",
    "# query = \"\"\"CREATE TABLE EMPLOYEE (\n",
    "#    FIRST_NAME  CHAR(20) NOT NULL,\n",
    "#    LAST_NAME  CHAR(20),\n",
    "#    AGE INT,  \n",
    "#    SEX CHAR(1),\n",
    "#    INCOME FLOAT )\"\"\"\n",
    "# \n",
    "# CREATE TABLE table_name (\n",
    "#     column1 datatype,\n",
    "#     column2 datatype,\n",
    "#     column3 datatype,\n",
    "#    ....\n",
    "# ); \n",
    "\n",
    "#  Удалить таблицу\n",
    "# DROP TABLE table_name; \n",
    "\n",
    "\n",
    "#  Вставить в таблицу\n",
    "# ALTER TABLE table_name\n",
    "# ADD column_name datatype; \n",
    "\n",
    "#  Удалить из таблицы\n",
    "\n",
    "#  Обновить таблицу"
   ]
  },
  {
   "cell_type": "code",
   "execution_count": 2,
   "metadata": {},
   "outputs": [
    {
     "name": "stdout",
     "output_type": "stream",
     "text": [
      "**************************************\n",
      "Connection to base test_db from pyMySQL succerfull!\n",
      "**************************************\n",
      "Database version: 5.7.28-log\n",
      "**************************************\n"
     ]
    }
   ],
   "source": [
    "version_db()"
   ]
  },
  {
   "cell_type": "code",
   "execution_count": 160,
   "metadata": {},
   "outputs": [
    {
     "name": "stdout",
     "output_type": "stream",
     "text": [
      "**************************************\n",
      "Connection to base test_db succerfull!\n",
      "**************************************\n",
      "Commit done\n",
      "**************************************\n",
      "Query done\n",
      "**************************************\n"
     ]
    }
   ],
   "source": [
    "# query = \"\"\"CREATE TABLE EMPLOYEE (\n",
    "#    FIRST_NAME  CHAR(20) NOT NULL,\n",
    "#    LAST_NAME  CHAR(20),\n",
    "#    AGE INT,  \n",
    "#    SEX CHAR(1),\n",
    "#    INCOME FLOAT )\"\"\"\n",
    "query = \"\"\"INSERT INTO EMPLOYEE(FIRST_NAME,\n",
    "   LAST_NAME, AGE, SEX, INCOME)\n",
    "   VALUES ('Macewew', 'Mohan', 20, 'M', 2000)\"\"\"\n",
    "work_with_base(query, True)"
   ]
  },
  {
   "cell_type": "markdown",
   "metadata": {},
   "source": [
    "## ------------------------------------End work---------------------------------------- \n"
   ]
  },
  {
   "cell_type": "markdown",
   "metadata": {},
   "source": [
    " ### import  MySQL\n",
    " https://www.w3schools.com/python/python_mysql_insert.asp"
   ]
  },
  {
   "cell_type": "code",
   "execution_count": 2,
   "metadata": {},
   "outputs": [],
   "source": [
    "import mysql.connector\n",
    "import pswrd\n",
    "\n",
    "\n",
    "star = 48\n",
    "\n",
    "def connected(func):\n",
    "    def wrapper(*arg, **kwarg):\n",
    "        try:\n",
    "            connect = mysql.connector.connect(\n",
    "                host=pswrd.host,\n",
    "                user=pswrd.user,\n",
    "                password=pswrd.password,\n",
    "                database=pswrd.database,\n",
    "                \n",
    "               \n",
    "            )\n",
    "            print('*'*star)\n",
    "            print('Connection to base test_db from MySQL succerfull!')\n",
    "            print('*'*star)\n",
    "            func(connect, *arg, **kwarg)\n",
    "        except Exception as e:\n",
    "            print('*'*star)\n",
    "            print(e)\n",
    "            print('*'*star)\n",
    "    return wrapper\n",
    "\n",
    "@connected\n",
    "def version_db(connect):\n",
    "    with connect:\n",
    "        cur = connect.cursor()\n",
    "        cur.execute(\"SELECT VERSION()\")\n",
    "        version = cur.fetchone()\n",
    "        print(\"Database version: {}\".format(version[0]))\n",
    "        \n",
    "        print('*'*star)\n",
    "        \n",
    "# Прочитать с бази\n",
    "@connected\n",
    "def work_with_base(connect, query_text, commit=False):\n",
    "    '''\n",
    "    Функция отправляет запрос на SQL сервер,\n",
    "    query_text - текс запроса\n",
    "    commit - булевое значение по факту False, когда тру делается комит, который нужен, для записи и \n",
    "    обновления  данных\n",
    "    '''\n",
    "    with connect:\n",
    "        cur = connect.cursor()\n",
    "        cur.execute(query_text)\n",
    "        if commit:\n",
    "            connect.commit()\n",
    "            print(\"Commit done!\")\n",
    "            print('*'*star)\n",
    "        print(\"Query done!\")\n",
    "        print('*'*star)       "
   ]
  },
  {
   "cell_type": "code",
   "execution_count": 4,
   "metadata": {},
   "outputs": [
    {
     "name": "stdout",
     "output_type": "stream",
     "text": [
      "************************************************\n",
      "Connection to base test_db from MySQL succerfull!\n",
      "************************************************\n",
      "Database version: 5.7.28-log\n",
      "************************************************\n"
     ]
    }
   ],
   "source": [
    "version_db()"
   ]
  },
  {
   "cell_type": "markdown",
   "metadata": {},
   "source": [
    "### Insert"
   ]
  },
  {
   "cell_type": "code",
   "execution_count": 20,
   "metadata": {},
   "outputs": [
    {
     "name": "stdout",
     "output_type": "stream",
     "text": [
      "INSERT INTO EMPLOYEE(INCOME)\n",
      "   VALUES (2000)\n",
      "************************************************\n",
      "Connection to base test_db from MySQL succerfull!\n",
      "************************************************\n",
      "************************************************\n",
      "1364 (HY000): Field 'FIRST_NAME' doesn't have a default value\n",
      "************************************************\n"
     ]
    }
   ],
   "source": [
    "first_name = 'Lenwww'\n",
    "query = \"\"\"INSERT INTO EMPLOYEE(INCOME)\n",
    "   VALUES (2000)\"\"\"\n",
    "print(query)\n",
    "work_with_base(query, commit=True)"
   ]
  },
  {
   "cell_type": "markdown",
   "metadata": {},
   "source": [
    "### Create Table"
   ]
  },
  {
   "cell_type": "code",
   "execution_count": 16,
   "metadata": {},
   "outputs": [
    {
     "name": "stdout",
     "output_type": "stream",
     "text": [
      "CREATE TABLE test_test (\n",
      "   FIRST_NAME  CHAR(20) NOT NULL,\n",
      "   LAST_NAME  CHAR(20),\n",
      "   AGE INT,  \n",
      "   SEX CHAR(1),\n",
      "   INCOME FLOAT )\n",
      "************************************************\n",
      "Connection to base test_db from MySQL succerfull!\n",
      "************************************************\n",
      "************************************************\n",
      "1050 (42S01): Table 'test_test' already exists\n",
      "************************************************\n"
     ]
    }
   ],
   "source": [
    "table_name = 'test_test'\n",
    "query = \"\"\"CREATE TABLE {0} (\n",
    "   FIRST_NAME  CHAR(20) NOT NULL,\n",
    "   LAST_NAME  CHAR(20),\n",
    "   AGE INT,  \n",
    "   SEX CHAR(1),\n",
    "   INCOME FLOAT )\"\"\".format(table_name)\n",
    "\n",
    "\n",
    " \n",
    "print(query)\n",
    "work_with_base(query)"
   ]
  },
  {
   "cell_type": "markdown",
   "metadata": {},
   "source": [
    "### Cteate Table COMPANYS"
   ]
  },
  {
   "cell_type": "code",
   "execution_count": 22,
   "metadata": {},
   "outputs": [
    {
     "name": "stdout",
     "output_type": "stream",
     "text": [
      "CREATE TABLE COMPANYS (\n",
      "   ID  INT AUTO_INCREMENT PRIMARY KEY,\n",
      "   COMPANY_NAME  CHAR(255))\n",
      "************************************************\n",
      "Connection to base test_db from MySQL succerfull!\n",
      "************************************************\n",
      "Query done!\n",
      "************************************************\n"
     ]
    }
   ],
   "source": [
    "table_name = 'COMPANYS'\n",
    "query = \"\"\"CREATE TABLE {0} (\n",
    "   ID  INT AUTO_INCREMENT PRIMARY KEY,\n",
    "   COMPANY_NAME  CHAR(255))\"\"\".format(table_name)\n",
    "\n",
    "\n",
    " \n",
    "print(query)\n",
    "work_with_base(query)"
   ]
  },
  {
   "cell_type": "markdown",
   "metadata": {},
   "source": [
    "### Cteate Table COMPANYS"
   ]
  },
  {
   "cell_type": "code",
   "execution_count": 17,
   "metadata": {},
   "outputs": [
    {
     "name": "stdout",
     "output_type": "stream",
     "text": [
      "CREATE TABLE COMPANYS (\n",
      "   ID  INT PRIMARY KEY,\n",
      "   COMPANY_NAME  CHAR(255))\n",
      "************************************************\n",
      "Connection to base test_db from MySQL succerfull!\n",
      "************************************************\n",
      "Query done!\n",
      "************************************************\n"
     ]
    }
   ],
   "source": [
    "table_name = 'COMPANYS'\n",
    "query = \"\"\"CREATE TABLE {0} (\n",
    "   ID  INT PRIMARY KEY,\n",
    "   COMPANY_NAME  CHAR(255))\"\"\".format(table_name)\n",
    "\n",
    "\n",
    " \n",
    "print(query)\n",
    "work_with_base(query)"
   ]
  },
  {
   "cell_type": "markdown",
   "metadata": {},
   "source": [
    "### ------------------------------ Test -----------------------------------------------------"
   ]
  },
  {
   "cell_type": "code",
   "execution_count": 24,
   "metadata": {},
   "outputs": [],
   "source": [
    "def decorator_function(func):\n",
    "    def wrapper():\n",
    "        print('Функция-обёртка!')\n",
    "        print('Оборачиваемая функция: {}'.format(func))\n",
    "        print('Выполняем обёрнутую функцию...')\n",
    "        func()\n",
    "        print('Выходим из обёртки')\n",
    "    return wrapper"
   ]
  },
  {
   "cell_type": "code",
   "execution_count": 25,
   "metadata": {},
   "outputs": [],
   "source": [
    "@decorator_function\n",
    "def hello_world():\n",
    "    print('Hello world!')"
   ]
  },
  {
   "cell_type": "code",
   "execution_count": 26,
   "metadata": {},
   "outputs": [
    {
     "name": "stdout",
     "output_type": "stream",
     "text": [
      "Функция-обёртка!\n",
      "Оборачиваемая функция: <function hello_world at 0x000000000922DAE8>\n",
      "Выполняем обёрнутую функцию...\n",
      "Hello world!\n",
      "Выходим из обёртки\n"
     ]
    }
   ],
   "source": [
    "hello_world()"
   ]
  },
  {
   "cell_type": "code",
   "execution_count": 134,
   "metadata": {},
   "outputs": [],
   "source": []
  },
  {
   "cell_type": "code",
   "execution_count": 135,
   "metadata": {},
   "outputs": [],
   "source": []
  },
  {
   "cell_type": "code",
   "execution_count": 156,
   "metadata": {},
   "outputs": [
    {
     "name": "stdout",
     "output_type": "stream",
     "text": [
      "INSERT INTO EMPLOYEE(FIRST_NAME,\n",
      "   LAST_NAME, AGE, SEX, INCOME)\n",
      "   VALUES ('Sasha', 'Mohan', 20, 'M', 2000)\n",
      "**************************************\n",
      "Connection to base test_db succerfull!\n",
      "**************************************\n",
      "Commit done\n",
      "**************************************\n",
      "Query done\n",
      "**************************************\n"
     ]
    }
   ],
   "source": [
    "# query = \"\"\"CREATE TABLE EMPLOYEE (\n",
    "#    FIRST_NAME  CHAR(20) NOT NULL,\n",
    "#    LAST_NAME  CHAR(20),\n",
    "#    AGE INT,  \n",
    "#    SEX CHAR(1),\n",
    "#    INCOME FLOAT )\"\"\"\n",
    "first_name = 'Sasha'\n",
    "query = \"\"\"INSERT INTO EMPLOYEE(FIRST_NAME,\n",
    "   LAST_NAME, AGE, SEX, INCOME)\n",
    "   VALUES ('{0}', 'Mohan', 20, 'M', 2000)\"\"\".format(first_name)\n",
    "print(query)\n",
    "work_with_base(query, commit=True)"
   ]
  },
  {
   "cell_type": "code",
   "execution_count": null,
   "metadata": {},
   "outputs": [],
   "source": [
    "# query = \"\"\"CREATE TABLE EMPLOYEE (\n",
    "#    FIRST_NAME  CHAR(20) NOT NULL,\n",
    "#    LAST_NAME  CHAR(20),\n",
    "#    AGE INT,  \n",
    "#    SEX CHAR(1),\n",
    "#    INCOME FLOAT )\"\"\"\n",
    "def insert(\n",
    "    table_name\n",
    "):\n",
    "query = \"\"\"INSERT INTO EMPLOYEE(FIRST_NAME,\n",
    "   LAST_NAME, AGE, SEX, INCOME)\n",
    "   VALUES ('Mac', 'Mohan', 20, 'M', 2000)\"\"\"\n",
    " "
   ]
  }
 ],
 "metadata": {
  "kernelspec": {
   "display_name": "Python 3",
   "language": "python",
   "name": "python3"
  },
  "language_info": {
   "codemirror_mode": {
    "name": "ipython",
    "version": 3
   },
   "file_extension": ".py",
   "mimetype": "text/x-python",
   "name": "python",
   "nbconvert_exporter": "python",
   "pygments_lexer": "ipython3",
   "version": "3.6.5"
  }
 },
 "nbformat": 4,
 "nbformat_minor": 4
}
