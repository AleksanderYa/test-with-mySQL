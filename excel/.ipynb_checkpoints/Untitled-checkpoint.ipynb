{
 "cells": [
  {
   "cell_type": "code",
   "execution_count": 65,
   "metadata": {},
   "outputs": [
    {
     "name": "stdout",
     "output_type": "stream",
     "text": [
      "On branch workplace\n",
      "Changes not staged for commit:\n",
      "  (use \"git add/rm <file>...\" to update what will be committed)\n",
      "  (use \"git restore <file>...\" to discard changes in working directory)\n",
      "\tmodified:   Untitled.ipynb\n",
      "\tdeleted:    xls.py\n",
      "\n",
      "Untracked files:\n",
      "  (use \"git add <file>...\" to include in what will be committed)\n",
      "\txls_function.py\n",
      "\n",
      "no changes added to commit (use \"git add\" and/or \"git commit -a\")\n"
     ]
    }
   ],
   "source": [
    "!git status\n",
    "\n",
    "\n"
   ]
  },
  {
   "cell_type": "code",
   "execution_count": 66,
   "metadata": {},
   "outputs": [
    {
     "name": "stderr",
     "output_type": "stream",
     "text": [
      "warning: LF will be replaced by CRLF in excel/Untitled.ipynb.\n",
      "The file will have its original line endings in your working directory\n"
     ]
    }
   ],
   "source": [
    "!git add ."
   ]
  },
  {
   "cell_type": "code",
   "execution_count": 67,
   "metadata": {},
   "outputs": [
    {
     "name": "stdout",
     "output_type": "stream",
     "text": [
      "2021-05-21 12:22:35\n"
     ]
    }
   ],
   "source": [
    "from datetime import datetime as dt\n",
    "\n",
    "time = str(dt.now())\n",
    "time = time[:19]\n",
    "print(time)"
   ]
  },
  {
   "cell_type": "code",
   "execution_count": null,
   "metadata": {},
   "outputs": [],
   "source": [
    "with open('_push.py', w+)"
   ]
  },
  {
   "cell_type": "code",
   "execution_count": 68,
   "metadata": {},
   "outputs": [
    {
     "name": "stdout",
     "output_type": "stream",
     "text": [
      "[workplace c2155e0] 2021-05-21 12:22:35\n",
      " 3 files changed, 170 insertions(+), 14 deletions(-)\n",
      " delete mode 100644 excel/xls.py\n",
      " create mode 100644 excel/xls_function.py\n"
     ]
    }
   ],
   "source": [
    "\n",
    "\n",
    "\n",
    "!git commit -m  \"2021-05-21 12:22:35\""
   ]
  },
  {
   "cell_type": "code",
   "execution_count": 69,
   "metadata": {},
   "outputs": [
    {
     "name": "stderr",
     "output_type": "stream",
     "text": [
      "failed to load advapi32.dll\n",
      "To https://github.com/AleksanderYa/test-with-mySQL.git\n",
      "   2f5c17a..c2155e0  workplace -> workplace\n"
     ]
    }
   ],
   "source": [
    "!git push origin workplace\n"
   ]
  },
  {
   "cell_type": "code",
   "execution_count": 24,
   "metadata": {},
   "outputs": [],
   "source": [
    "import xlrd\n",
    "import re"
   ]
  },
  {
   "cell_type": "code",
   "execution_count": 25,
   "metadata": {},
   "outputs": [],
   "source": [
    "def connect(func):\n",
    "    def wrapper(*arg, **kwarg):\n",
    "        try:\n",
    "            arge = arg[0]\n",
    "            if type(arge) == str:\n",
    "                rb = xlrd.open_workbook(arge, formatting_info=True)\n",
    "                sheet = rb.sheet_by_index(0)\n",
    "                print('Connection succerfull')\n",
    "                print()\n",
    "                res = func(sheet,*arg, **kwarg)\n",
    "                return res\n",
    "            else:\n",
    "                print('wrong format text to connect')\n",
    "        except Exception as e:\n",
    "            print('connect',e) \n",
    "    return wrapper\n",
    "\n"
   ]
  },
  {
   "cell_type": "code",
   "execution_count": 26,
   "metadata": {},
   "outputs": [],
   "source": [
    "@connect\n",
    "def waybill(sheet, text):\n",
    "    coll = ''\n",
    "    for rownum in range(sheet.nrows):\n",
    "        row = sheet.row_values(rownum)\n",
    "        for c_ell in row:\n",
    "            try:\n",
    "                if c_ell:\n",
    "                    reg_text = r'Видаткова накладна'\n",
    "                    res = re.findall(reg_text, c_ell)\n",
    "                    if res and not coll:\n",
    "                        coll = c_ell\n",
    "#                         print(coll)\n",
    "                        return c_ell\n",
    "            except Exception as e:\n",
    "                pass"
   ]
  },
  {
   "cell_type": "code",
   "execution_count": 27,
   "metadata": {},
   "outputs": [],
   "source": [
    "@connect\n",
    "def bayer(sheet, text):\n",
    "    col = ''\n",
    "    col2 = ''\n",
    "#     print(type(sheet))\n",
    "    for rownum in range(sheet.nrows):\n",
    "        finded_text = r'Покупець:'\n",
    "        row = sheet.row_values(rownum)\n",
    "        for c_el in row:\n",
    "            try:\n",
    "                if c_el:\n",
    "                    res = re.match(finded_text, c_el)\n",
    "                    if res and not col:\n",
    "                        col = c_el\n",
    "                    elif col and c_el and not col2:\n",
    "#                         print(c_el)\n",
    "                        col2 = c_el\n",
    "                        return c_el           \n",
    "            except Exception as e:\n",
    "                pass\n",
    "#"
   ]
  },
  {
   "cell_type": "code",
   "execution_count": 28,
   "metadata": {},
   "outputs": [],
   "source": [
    "            \n",
    "@connect\n",
    "def product(sheet, text):\n",
    "#     try:\n",
    "    coll = ''\n",
    "    base = []\n",
    "    for rownum in range(sheet.nrows):\n",
    "        row = sheet.row_values(rownum)\n",
    "        for c_ell in row:\n",
    "#                 try:\n",
    "#                     print(c_ell)\n",
    "                if c_ell:\n",
    "                    c_ell = str(c_ell)\n",
    "#                         print(c_ell)\n",
    "                    try:\n",
    "                        reg_text = r'Сума без ПДВ'\n",
    "                        reg_end_text = r'Всього:'\n",
    "                        res = re.match(reg_text, c_ell)\n",
    "                        res_end = re.search(reg_end_text, c_ell)\n",
    "    #                             print(res, '----------', coll)\n",
    "                        if res and not coll:\n",
    "    #                                 print('1',c_ell)\n",
    "                            coll = c_ell\n",
    "    #                                 base.append(c_ell)\n",
    "\n",
    "                        elif coll and not res_end:\n",
    "    #                                 c_ell = str_to_float(c_ell)\n",
    "                            base.append(c_ell)\n",
    "    #                                 print('2',c_ell)\n",
    "                        elif res_end and coll:\n",
    "                            coll = ''\n",
    "    #                                 print('3',c_ell)\n",
    "                            base = test_sorted(base)\n",
    "                            return base\n",
    "    #                             else:\n",
    "    #                                 base.append(\"lol\")\n",
    "                    except Exception as e:\n",
    "                        print('in try', e)\n",
    "\n",
    "#     return base               \n",
    "#     except Exception as e:\n",
    "#         print(e)\n",
    "        \n",
    "\n",
    " "
   ]
  },
  {
   "cell_type": "code",
   "execution_count": 55,
   "metadata": {},
   "outputs": [],
   "source": [
    "def str_to_float(text):\n",
    "    try:\n",
    "        return float(text)\n",
    "    except Exception as e:\n",
    "        return text\n",
    "            "
   ]
  },
  {
   "cell_type": "code",
   "execution_count": 56,
   "metadata": {},
   "outputs": [],
   "source": [
    "def test_sorted(obj):\n",
    "    base = []\n",
    "    re_base = []\n",
    "    col = 5\n",
    "    col_pos = len(obj)/6\n",
    "#     obj.append('None')\n",
    "    if col_pos == abs(col_pos):\n",
    "        try:\n",
    "            for i in obj:       \n",
    "                if col:\n",
    "#                     print('ts if',i, col)\n",
    "                    re_base.append(i)\n",
    "                    col -= 1\n",
    "                elif not col:\n",
    "#                     print('ts else',i, col)\n",
    "                    re_base.append(i)\n",
    "                    base.append(re_base)\n",
    "                    re_base = []\n",
    "                    col = 5\n",
    "            print('all done.....base-list of product create')\n",
    "            print()\n",
    "            return base\n",
    "        except Exception as e:\n",
    "            print('test_sorted',e)\n",
    "        "
   ]
  },
  {
   "cell_type": "code",
   "execution_count": 74,
   "metadata": {},
   "outputs": [],
   "source": [
    "def add_bayway(product_list, *arg):\n",
    "    if type(product_list) == list: \n",
    "        product = product_list[::-1]\n",
    "        temp = []\n",
    "        temp.append(arg[0])\n",
    "        temp.append(arg[1])\n",
    "        product.append(temp)\n",
    "        product = product[::-1]\n",
    "        print('All done...bayer and waybill add to list')\n",
    "        print()\n",
    "        return product\n",
    "    else:\n",
    "        print('Wrong format in add_bauway')\n",
    "        return None"
   ]
  },
  {
   "cell_type": "code",
   "execution_count": 75,
   "metadata": {},
   "outputs": [],
   "source": [
    "def create_infolist(text):\n",
    "    return add_bayway(\n",
    "        product(text),\n",
    "        bayer(text),\n",
    "        waybill(text)\n",
    "    )\n",
    "    "
   ]
  },
  {
   "cell_type": "code",
   "execution_count": 76,
   "metadata": {},
   "outputs": [
    {
     "name": "stdout",
     "output_type": "stream",
     "text": [
      "Connection succerfull\n",
      "\n",
      "all done.....base-list of product create\n",
      "\n",
      "Connection succerfull\n",
      "\n",
      "Connection succerfull\n",
      "\n",
      "All done...bayer and waybill add to list\n",
      "\n",
      "[['Товариство з обмеженою відповідальністю  \"Дід Сергій\"', 'Видаткова накладна № 572 від 20 березня 2020 р.'], ['1.0', 'какао-порошок JB-800', '0.025', 'т', '71000.0', '1775.0'], ['2.0', 'какао-порошок JB-800', '0.025', 'т', '71000.0', '1775.0'], ['3.0', 'какао-порошок JB-800', '0.025', 'т', '71000.0', '1775.0'], ['4.0', 'какао-порошок JB-800', '0.025', 'т', '71000.0', '1775.0'], ['5.0', 'какао-порошок JB-800', '0.025', 'т', '71000.0', '1775.0']]\n"
     ]
    }
   ],
   "source": [
    "a = test('Видаткова накладна № 572 від 20.03.2020.xls')\n",
    "print(a)"
   ]
  },
  {
   "cell_type": "code",
   "execution_count": null,
   "metadata": {},
   "outputs": [],
   "source": []
  },
  {
   "cell_type": "code",
   "execution_count": 5,
   "metadata": {},
   "outputs": [
    {
     "name": "stdout",
     "output_type": "stream",
     "text": [
      "[]\n",
      "[]\n",
      "[]\n",
      "[]\n",
      "[]\n",
      "[]\n",
      "[]\n",
      "[]\n",
      "[]\n",
      "[]\n"
     ]
    }
   ],
   "source": [
    "import os\n",
    "import os.path\n",
    "import re\n",
    "\n",
    "file_name = \"Видаткова накладна № 572 від 20.03.2020.xls\" #file to be searched\n",
    "cur_dir = os.getcwd() # Dir from where search starts can be replaced with any path\n",
    "\n",
    "while True:\n",
    "    file_list = os.listdir(cur_dir)\n",
    "#     print(file_list)\n",
    "    for i in file_list:\n",
    "        pattern = r'^[.]{1}$'\n",
    "        res = re.findall(pattern, i)\n",
    "        print(res)\n",
    "    break\n",
    "#     parent_dir = os.path.dirname(cur_dir)\n",
    "#     if file_name in file_list:\n",
    "#         print(\"File Exists in: \", cur_dir)\n",
    "#         break\n",
    "#     else:\n",
    "#         if cur_dir == parent_dir: #if dir is root dir\n",
    "#             print(\"File not found\")\n",
    "#             break\n",
    "#         else:\n",
    "#             cur_dir = parent_dir\n"
   ]
  },
  {
   "cell_type": "code",
   "execution_count": 23,
   "metadata": {},
   "outputs": [
    {
     "ename": "SyntaxError",
     "evalue": "EOL while scanning string literal (<ipython-input-23-c78fb1e584d5>, line 2)",
     "output_type": "error",
     "traceback": [
      "\u001b[1;36m  File \u001b[1;32m\"<ipython-input-23-c78fb1e584d5>\"\u001b[1;36m, line \u001b[1;32m2\u001b[0m\n\u001b[1;33m    for file in os.listdir(\".\\\"):\u001b[0m\n\u001b[1;37m                                 ^\u001b[0m\n\u001b[1;31mSyntaxError\u001b[0m\u001b[1;31m:\u001b[0m EOL while scanning string literal\n"
     ]
    }
   ],
   "source": [
    "import os\n",
    "for file in os.listdir(\"./\"):\n",
    "    print(file)\n",
    "    if file.endswith(\".xls\"):\n",
    "        print(os.path.join(\"./\", file))\n",
    "    "
   ]
  },
  {
   "cell_type": "code",
   "execution_count": 3,
   "metadata": {},
   "outputs": [
    {
     "name": "stdout",
     "output_type": "stream",
     "text": [
      "Untitled-checkpoint.ipynb\n",
      "Untitled1-checkpoint.ipynb\n"
     ]
    }
   ],
   "source": [
    "import os\n",
    "\n",
    "for i in os.listdir('./'):\n",
    "    print(i)\n",
    "    try:\n",
    "    \n",
    "        os.chdir('{0}/'.format(i))\n",
    "#         print('Good')\n",
    "    except Exception as e:\n",
    "#         print(e)\n",
    "        pass\n"
   ]
  },
  {
   "cell_type": "code",
   "execution_count": 21,
   "metadata": {},
   "outputs": [],
   "source": [
    "import os\n",
    "def search_xls():\n",
    "    temp_list = []\n",
    "    for i in os.walk('./'):\n",
    "        for ii in i[2]:\n",
    "            if ii.endswith(\".xls\") and i[0] == './' :\n",
    "                res = ii\n",
    "                print('Finded file -->',ii)\n",
    "                temp_list.append(res)\n",
    "                print(res)\n",
    "                print()\n",
    "            elif ii.endswith(\".xls\") and i[0] != './' :\n",
    "                res = i[0]+ '/' + ii\n",
    "                print('Finded file -->',ii)\n",
    "                temp_list.append(res)\n",
    "                print(res)\n",
    "                print()\n",
    "    return temp_list\n",
    " \n",
    " "
   ]
  },
  {
   "cell_type": "code",
   "execution_count": 22,
   "metadata": {},
   "outputs": [
    {
     "name": "stdout",
     "output_type": "stream",
     "text": [
      "Finded file --> Видаткова накладна № 276 від 11.02.2021.xls\n",
      "Видаткова накладна № 276 від 11.02.2021.xls\n",
      "\n",
      "Finded file --> Видаткова накладна № 786 від 22.05.2017 (3).xls\n",
      "Видаткова накладна № 786 від 22.05.2017 (3).xls\n",
      "\n",
      "Finded file --> Видаткова накладна № 572 від 20.03.2020.xls\n",
      "./Новая папка/Видаткова накладна № 572 від 20.03.2020.xls\n",
      "\n"
     ]
    },
    {
     "data": {
      "text/plain": [
       "['Видаткова накладна № 276 від 11.02.2021.xls',\n",
       " 'Видаткова накладна № 786 від 22.05.2017 (3).xls',\n",
       " './Новая папка/Видаткова накладна № 572 від 20.03.2020.xls']"
      ]
     },
     "execution_count": 22,
     "metadata": {},
     "output_type": "execute_result"
    }
   ],
   "source": [
    "search_xls()"
   ]
  },
  {
   "cell_type": "code",
   "execution_count": 5,
   "metadata": {},
   "outputs": [
    {
     "ename": "IndentationError",
     "evalue": "expected an indented block (<ipython-input-5-d6a8199704f7>, line 4)",
     "output_type": "error",
     "traceback": [
      "\u001b[1;36m  File \u001b[1;32m\"<ipython-input-5-d6a8199704f7>\"\u001b[1;36m, line \u001b[1;32m4\u001b[0m\n\u001b[1;33m    print(i)\u001b[0m\n\u001b[1;37m        ^\u001b[0m\n\u001b[1;31mIndentationError\u001b[0m\u001b[1;31m:\u001b[0m expected an indented block\n"
     ]
    }
   ],
   "source": [
    "import os\n",
    "def inner():\n",
    "    for i in os.listdir('./'):\n",
    "    print(i)\n",
    "    try:\n",
    "    \n",
    "        os.chdir('{0}/'.format(i))\n",
    "#         print('Good')\n",
    "    except Exception as e:\n",
    "#         print(e)\n",
    "        pass\n",
    "\n",
    " \n",
    "        "
   ]
  },
  {
   "cell_type": "code",
   "execution_count": null,
   "metadata": {},
   "outputs": [],
   "source": []
  },
  {
   "cell_type": "code",
   "execution_count": null,
   "metadata": {},
   "outputs": [],
   "source": []
  },
  {
   "cell_type": "code",
   "execution_count": null,
   "metadata": {},
   "outputs": [],
   "source": []
  },
  {
   "cell_type": "code",
   "execution_count": null,
   "metadata": {},
   "outputs": [],
   "source": []
  },
  {
   "cell_type": "code",
   "execution_count": null,
   "metadata": {},
   "outputs": [],
   "source": [
    "\n",
    "\n",
    "\n"
   ]
  }
 ],
 "metadata": {
  "celltoolbar": "Необработанный формат ячейки",
  "kernelspec": {
   "display_name": "Python 3",
   "language": "python",
   "name": "python3"
  },
  "language_info": {
   "codemirror_mode": {
    "name": "ipython",
    "version": 3
   },
   "file_extension": ".py",
   "mimetype": "text/x-python",
   "name": "python",
   "nbconvert_exporter": "python",
   "pygments_lexer": "ipython3",
   "version": "3.6.5"
  }
 },
 "nbformat": 4,
 "nbformat_minor": 4
}
