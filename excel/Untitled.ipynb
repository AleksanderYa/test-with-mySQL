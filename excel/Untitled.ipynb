{
 "cells": [
  {
   "cell_type": "code",
   "execution_count": 120,
   "metadata": {},
   "outputs": [
    {
     "name": "stderr",
     "output_type": "stream",
     "text": [
      "warning: LF will be replaced by CRLF in excel/.ipynb_checkpoints/Untitled-checkpoint.ipynb.\n",
      "The file will have its original line endings in your working directory\n",
      "warning: LF will be replaced by CRLF in excel/Untitled.ipynb.\n",
      "The file will have its original line endings in your working directory\n"
     ]
    }
   ],
   "source": [
    "!git add ."
   ]
  },
  {
   "cell_type": "code",
   "execution_count": 121,
   "metadata": {},
   "outputs": [
    {
     "name": "stdout",
     "output_type": "stream",
     "text": [
      "On branch workplace\n",
      "Your branch is up to date with 'origin/workplace'.\n",
      "\n",
      "Changes to be committed:\n",
      "  (use \"git restore --staged <file>...\" to unstage)\n",
      "\tmodified:   .ipynb_checkpoints/Untitled-checkpoint.ipynb\n",
      "\tmodified:   Untitled.ipynb\n",
      "\n"
     ]
    }
   ],
   "source": [
    "!git status\n",
    "\n"
   ]
  },
  {
   "cell_type": "code",
   "execution_count": 122,
   "metadata": {},
   "outputs": [
    {
     "name": "stdout",
     "output_type": "stream",
     "text": [
      "[workplace 508a033] 19/05/21 21:42\n",
      " 2 files changed, 152 insertions(+), 1518 deletions(-)\n"
     ]
    }
   ],
   "source": [
    "!git commit -m \"19/05/21 21:42\""
   ]
  },
  {
   "cell_type": "code",
   "execution_count": 123,
   "metadata": {},
   "outputs": [
    {
     "name": "stderr",
     "output_type": "stream",
     "text": [
      "To https://github.com/AleksanderYa/test-with-mySQL.git\n",
      "   69c698c..508a033  workplace -> workplace\n"
     ]
    }
   ],
   "source": [
    "!git push origin workplace"
   ]
  },
  {
   "cell_type": "code",
   "execution_count": 35,
   "metadata": {},
   "outputs": [],
   "source": [
    "import xlrd\n",
    "import re"
   ]
  },
  {
   "cell_type": "code",
   "execution_count": 36,
   "metadata": {},
   "outputs": [],
   "source": [
    "def connect(func):\n",
    "    def wrapper(*arg, **kwarg):\n",
    "        try:\n",
    "            arge = arg[0]\n",
    "            if type(arge) == str:\n",
    "                rb = xlrd.open_workbook(arge, formatting_info=True)\n",
    "                sheet = rb.sheet_by_index(0)\n",
    "                print('Connection succerfull')\n",
    "                res = func(sheet,*arg, **kwarg)\n",
    "                return res\n",
    "            else:\n",
    "                print('wrong format text to connect')\n",
    "        except Exception as e:\n",
    "            print('connect',e) \n",
    "    return wrapper"
   ]
  },
  {
   "cell_type": "code",
   "execution_count": 179,
   "metadata": {},
   "outputs": [],
   "source": [
    "@connect\n",
    "def waybill(sheet, text):\n",
    "    coll = ''\n",
    "    for rownum in range(sheet.nrows):\n",
    "        row = sheet.row_values(rownum)\n",
    "        for c_ell in row:\n",
    "            try:\n",
    "                if c_ell:\n",
    "                    reg_text = r'Видаткова накладна'\n",
    "                    res = re.match(reg_text, c_ell)\n",
    "                    if res and not coll:\n",
    "                        coll = c_ell\n",
    "                        print(coll)\n",
    "                        return c_ell\n",
    "            except Exception as e:\n",
    "                pass\n",
    "            \n",
    "            \n",
    "@connect\n",
    "def bayer(sheet, text):\n",
    "    col = ''\n",
    "    col2 = ''\n",
    "    print(type(sheet))\n",
    "    for rownum in range(sheet.nrows):\n",
    "        finded_text = r'Покупець:'\n",
    "        row = sheet.row_values(rownum)\n",
    "        for c_el in row:\n",
    "            try:\n",
    "                if c_el:\n",
    "                    res = re.match(finded_text, c_el)\n",
    "                    if res and not col:\n",
    "                        col = c_el\n",
    "                    elif col and c_el and not col2:\n",
    "                        print(c_el)\n",
    "                        col2 = c_el\n",
    "                        return c_el           \n",
    "            except Exception as e:\n",
    "                pass\n",
    "#\n",
    "            \n",
    "@connect\n",
    "def test(sheet, text):\n",
    "    try:\n",
    "        coll = ''\n",
    "        base = []\n",
    "        for rownum in range(sheet.nrows):\n",
    "            row = sheet.row_values(rownum)\n",
    "            for c_ell in row:\n",
    "#                 try:\n",
    "#                     print(c_ell)\n",
    "                    if c_ell:\n",
    "                        c_ell = str(c_ell)\n",
    "    #                         print(c_ell)\n",
    "                        try:\n",
    "\n",
    "                            reg_text = r'Сума без ПДВ'\n",
    "                            reg_end_text = r'Всього:'\n",
    "                            res = re.match(reg_text, c_ell)\n",
    "                            res_end = re.search(reg_end_text, c_ell)\n",
    "                            print(res, '----------', coll)\n",
    "                            if res and not coll:\n",
    "                                print('1',c_ell)\n",
    "                                coll = c_ell\n",
    "#                                 base.append(c_ell)\n",
    "\n",
    "                            elif coll and not res_end:\n",
    "                                base.append(c_ell)\n",
    "                                print('2',c_ell)\n",
    "                            elif res_end and coll:\n",
    "                                coll = ''\n",
    "                                print('3',c_ell)\n",
    "#                             else:\n",
    "#                                 base.append(\"lol\")\n",
    "        \n",
    "                                \n",
    "                        except Exception as e:\n",
    "                            print('in//////////////////? try', e)\n",
    "\n",
    "        return base               \n",
    "    except Exception as e:\n",
    "        print(e)\n",
    "            \n",
    "            \n",
    "            \n",
    "# @connect\n",
    "# def tips(text, sheet=sheet):\n",
    "#     col = ''\n",
    "#     col2 = 'Всього:'\n",
    "#     col3 = []\n",
    "#     for rownum in range(sheet.nrows):\n",
    "#         finded_text = r'Сума без ПДВ'\n",
    "#         row = sheet.row_values(rownum)\n",
    "#         print('row', row)\n",
    "#         for c_el in row:\n",
    "#             print(c_el)\n",
    "#             try:\n",
    "#                 if c_el:\n",
    "#                     res = re.match(finded_text, c_el)\n",
    "#                     if res and not col:\n",
    "#                         col = c_el\n",
    "#                         print('start', c_el)\n",
    "#                     elif col and c_el and c_el != col2:\n",
    "#                         print('col3', c_el)\n",
    "#                         col3.append(c_el)\n",
    "#                     elif c_el == col2:\n",
    "#                         print('reset', c_el)\n",
    "#                         col = ''\n",
    "#                     return col3\n",
    "#             except Exception as e:\n",
    "#                 pass    "
   ]
  },
  {
   "cell_type": "code",
   "execution_count": 180,
   "metadata": {},
   "outputs": [
    {
     "name": "stdout",
     "output_type": "stream",
     "text": [
      "Connection succerfull\n",
      "<class 'xlrd.sheet.Sheet'>\n",
      "Три ведмеді ТзОВ\n",
      "Connection succerfull\n",
      "<class 'xlrd.sheet.Sheet'>\n",
      "Товариство з обмеженою відповідальністю  \"Дід Сергій\"\n",
      "Connection succerfull\n",
      "None ---------- \n",
      "None ---------- \n",
      "None ---------- \n",
      "None ---------- \n",
      "None ---------- \n",
      "None ---------- \n",
      "None ---------- \n",
      "None ---------- \n",
      "None ---------- \n",
      "None ---------- \n",
      "None ---------- \n",
      "None ---------- \n",
      "None ---------- \n",
      "None ---------- \n",
      "None ---------- \n",
      "None ---------- \n",
      "<re.Match object; span=(0, 12), match='Сума без ПДВ'> ---------- \n",
      "1 Сума без ПДВ\n",
      "None ---------- Сума без ПДВ\n",
      "2 1\n",
      "None ---------- Сума без ПДВ\n",
      "2 Лецитин соєвий Adlec 2923 20 00 00\n",
      "None ---------- Сума без ПДВ\n",
      "2 400.0\n",
      "None ---------- Сума без ПДВ\n",
      "2 кг\n",
      "None ---------- Сума без ПДВ\n",
      "2 36.2\n",
      "None ---------- Сума без ПДВ\n",
      "2 14480.0\n",
      "None ---------- Сума без ПДВ\n",
      "3 Всього:\n",
      "None ---------- \n",
      "None ---------- \n",
      "None ---------- \n",
      "None ---------- \n",
      "None ---------- \n",
      "None ---------- \n",
      "None ---------- \n",
      "None ---------- \n",
      "None ---------- \n",
      "None ---------- \n",
      "None ---------- \n",
      "None ---------- \n",
      "None ---------- \n",
      "None ---------- \n",
      "None ---------- \n",
      "None ---------- \n",
      "None ---------- \n",
      "None ---------- \n",
      "None ---------- \n",
      "None ---------- \n",
      "None ---------- \n",
      "None ---------- \n",
      "None ---------- \n",
      "None ---------- \n",
      "None ---------- \n",
      "None ---------- \n",
      "None ---------- \n",
      "None ---------- \n",
      "None ---------- \n",
      "None ---------- \n",
      "None ---------- \n",
      "None ---------- \n",
      "None ---------- \n",
      "None ---------- \n",
      "<re.Match object; span=(0, 12), match='Сума без ПДВ'> ---------- \n",
      "1 Сума без ПДВ\n",
      "None ---------- Сума без ПДВ\n",
      "2 1\n",
      "None ---------- Сума без ПДВ\n",
      "2 Лецитин соєвий Adlec 2923 20 00 00\n",
      "None ---------- Сума без ПДВ\n",
      "2 400.0\n",
      "None ---------- Сума без ПДВ\n",
      "2 кг\n",
      "None ---------- Сума без ПДВ\n",
      "2 36.2\n",
      "None ---------- Сума без ПДВ\n",
      "2 14480.0\n",
      "None ---------- Сума без ПДВ\n",
      "3 Всього:\n",
      "None ---------- \n",
      "None ---------- \n",
      "None ---------- \n",
      "None ---------- \n",
      "None ---------- \n",
      "None ---------- \n",
      "None ---------- \n",
      "None ---------- \n",
      "None ---------- \n",
      "None ---------- \n",
      "None ---------- \n",
      "None ---------- \n",
      "None ---------- \n",
      "None ---------- \n",
      "None ---------- \n",
      "None ---------- \n",
      "None ---------- \n",
      "None ---------- \n"
     ]
    }
   ],
   "source": [
    "a = bayer('Видаткова накладна № 276 від 11.02.2021.xls')\n",
    "b = bayer('Видаткова накладна № 572 від 20.03.2020.xls')\n",
    "c = test('Видаткова накладна № 276 від 11.02.2021.xls')"
   ]
  },
  {
   "cell_type": "code",
   "execution_count": 181,
   "metadata": {},
   "outputs": [
    {
     "name": "stdout",
     "output_type": "stream",
     "text": [
      "Три ведмеді ТзОВ\n",
      "Товариство з обмеженою відповідальністю  \"Дід Сергій\"\n",
      "['1', 'Лецитин соєвий Adlec 2923 20 00 00', '400.0', 'кг', '36.2', '14480.0', '1', 'Лецитин соєвий Adlec 2923 20 00 00', '400.0', 'кг', '36.2', '14480.0']\n"
     ]
    }
   ],
   "source": [
    "print(a)\n",
    "print(b)    \n",
    "print(c)"
   ]
  },
  {
   "cell_type": "code",
   "execution_count": 174,
   "metadata": {},
   "outputs": [
    {
     "name": "stdout",
     "output_type": "stream",
     "text": [
      "Connection succerfull\n",
      "Видаткова накладна № 572 від 20 березня 2020 р.\n"
     ]
    },
    {
     "data": {
      "text/plain": [
       "'Видаткова накладна № 572 від 20 березня 2020 р.'"
      ]
     },
     "execution_count": 174,
     "metadata": {},
     "output_type": "execute_result"
    }
   ],
   "source": [
    "waybill('Видаткова накладна № 572 від 20.03.2020.xls')"
   ]
  },
  {
   "cell_type": "code",
   "execution_count": 175,
   "metadata": {},
   "outputs": [
    {
     "name": "stdout",
     "output_type": "stream",
     "text": [
      "True\n"
     ]
    }
   ],
   "source": [
    "a = 4\n",
    "a += 1\n",
    "\n",
    "a = a - 4\n",
    "print(bool(a))"
   ]
  },
  {
   "cell_type": "code",
   "execution_count": null,
   "metadata": {},
   "outputs": [],
   "source": []
  }
 ],
 "metadata": {
  "celltoolbar": "Необработанный формат ячейки",
  "kernelspec": {
   "display_name": "Python 3",
   "language": "python",
   "name": "python3"
  },
  "language_info": {
   "codemirror_mode": {
    "name": "ipython",
    "version": 3
   },
   "file_extension": ".py",
   "mimetype": "text/x-python",
   "name": "python",
   "nbconvert_exporter": "python",
   "pygments_lexer": "ipython3",
   "version": "3.8.5"
  }
 },
 "nbformat": 4,
 "nbformat_minor": 4
}
