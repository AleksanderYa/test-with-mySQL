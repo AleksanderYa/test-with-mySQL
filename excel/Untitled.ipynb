{
 "cells": [
  {
   "cell_type": "code",
   "execution_count": 288,
   "metadata": {},
   "outputs": [
    {
     "name": "stdout",
     "output_type": "stream",
     "text": [
      "On branch workplace\n",
      "Changes not staged for commit:\n",
      "  (use \"git add <file>...\" to update what will be committed)\n",
      "  (use \"git restore <file>...\" to discard changes in working directory)\n",
      "\tmodified:   .ipynb_checkpoints/Untitled-checkpoint.ipynb\n",
      "\tmodified:   Untitled.ipynb\n",
      "\n",
      "no changes added to commit (use \"git add\" and/or \"git commit -a\")\n"
     ]
    }
   ],
   "source": [
    "!git status\n",
    "\n",
    "\n"
   ]
  },
  {
   "cell_type": "code",
   "execution_count": 289,
   "metadata": {},
   "outputs": [
    {
     "name": "stderr",
     "output_type": "stream",
     "text": [
      "warning: LF will be replaced by CRLF in excel/.ipynb_checkpoints/Untitled-checkpoint.ipynb.\n",
      "The file will have its original line endings in your working directory\n",
      "warning: LF will be replaced by CRLF in excel/Untitled.ipynb.\n",
      "The file will have its original line endings in your working directory\n"
     ]
    }
   ],
   "source": [
    "!git add ."
   ]
  },
  {
   "cell_type": "code",
   "execution_count": 290,
   "metadata": {},
   "outputs": [
    {
     "name": "stdout",
     "output_type": "stream",
     "text": [
      "2021-05-20 17:22:00\n"
     ]
    }
   ],
   "source": [
    "from datetime import datetime as dt\n",
    "\n",
    "time = str(dt.now())\n",
    "time = time[:19]\n",
    "print(time)"
   ]
  },
  {
   "cell_type": "code",
   "execution_count": null,
   "metadata": {},
   "outputs": [],
   "source": [
    "with open('_push.py', w+)"
   ]
  },
  {
   "cell_type": "code",
   "execution_count": 292,
   "metadata": {},
   "outputs": [
    {
     "name": "stdout",
     "output_type": "stream",
     "text": [
      "On branch workplace\n",
      "Untracked files:\n",
      "  (use \"git add <file>...\" to include in what will be committed)\n",
      "\t_push.py\n",
      "\n",
      "nothing added to commit but untracked files present (use \"git add\" to track)\n"
     ]
    }
   ],
   "source": [
    "\n",
    "\n",
    "\n",
    "!git commit -m  \"2021-05-20 17:22:00\""
   ]
  },
  {
   "cell_type": "code",
   "execution_count": 293,
   "metadata": {},
   "outputs": [
    {
     "name": "stderr",
     "output_type": "stream",
     "text": [
      "failed to load advapi32.dll\n",
      "To https://github.com/AleksanderYa/test-with-mySQL.git\n",
      "   40c48ea..2eb335c  workplace -> workplace\n"
     ]
    }
   ],
   "source": [
    "!git push origin workplace\n"
   ]
  },
  {
   "cell_type": "code",
   "execution_count": 2,
   "metadata": {},
   "outputs": [],
   "source": [
    "import xlrd\n",
    "import re"
   ]
  },
  {
   "cell_type": "code",
   "execution_count": 51,
   "metadata": {},
   "outputs": [],
   "source": [
    "def connect(func):\n",
    "    def wrapper(*arg, **kwarg):\n",
    "        try:\n",
    "            arge = arg[0]\n",
    "            if type(arge) == str:\n",
    "                rb = xlrd.open_workbook(arge, formatting_info=True)\n",
    "                sheet = rb.sheet_by_index(0)\n",
    "                print('Connection succerfull')\n",
    "                print()\n",
    "                res = func(sheet,*arg, **kwarg)\n",
    "                return res\n",
    "            else:\n",
    "                print('wrong format text to connect')\n",
    "        except Exception as e:\n",
    "            print('connect',e) \n",
    "    return wrapper\n",
    "\n"
   ]
  },
  {
   "cell_type": "code",
   "execution_count": 52,
   "metadata": {},
   "outputs": [],
   "source": [
    "@connect\n",
    "def waybill(sheet, text):\n",
    "    coll = ''\n",
    "    for rownum in range(sheet.nrows):\n",
    "        row = sheet.row_values(rownum)\n",
    "        for c_ell in row:\n",
    "            try:\n",
    "                if c_ell:\n",
    "                    reg_text = r'Видаткова накладна'\n",
    "                    res = re.match(reg_text, c_ell)\n",
    "                    if res and not coll:\n",
    "                        coll = c_ell\n",
    "#                         print(coll)\n",
    "                        return c_ell\n",
    "            except Exception as e:\n",
    "                pass"
   ]
  },
  {
   "cell_type": "code",
   "execution_count": 53,
   "metadata": {},
   "outputs": [],
   "source": [
    "@connect\n",
    "def bayer(sheet, text):\n",
    "    col = ''\n",
    "    col2 = ''\n",
    "#     print(type(sheet))\n",
    "    for rownum in range(sheet.nrows):\n",
    "        finded_text = r'Покупець:'\n",
    "        row = sheet.row_values(rownum)\n",
    "        for c_el in row:\n",
    "            try:\n",
    "                if c_el:\n",
    "                    res = re.match(finded_text, c_el)\n",
    "                    if res and not col:\n",
    "                        col = c_el\n",
    "                    elif col and c_el and not col2:\n",
    "#                         print(c_el)\n",
    "                        col2 = c_el\n",
    "                        return c_el           \n",
    "            except Exception as e:\n",
    "                pass\n",
    "#"
   ]
  },
  {
   "cell_type": "code",
   "execution_count": 54,
   "metadata": {},
   "outputs": [],
   "source": [
    "            \n",
    "@connect\n",
    "def product(sheet, text):\n",
    "#     try:\n",
    "    coll = ''\n",
    "    base = []\n",
    "    for rownum in range(sheet.nrows):\n",
    "        row = sheet.row_values(rownum)\n",
    "        for c_ell in row:\n",
    "#                 try:\n",
    "#                     print(c_ell)\n",
    "                if c_ell:\n",
    "                    c_ell = str(c_ell)\n",
    "#                         print(c_ell)\n",
    "                    try:\n",
    "                        reg_text = r'Сума без ПДВ'\n",
    "                        reg_end_text = r'Всього:'\n",
    "                        res = re.match(reg_text, c_ell)\n",
    "                        res_end = re.search(reg_end_text, c_ell)\n",
    "    #                             print(res, '----------', coll)\n",
    "                        if res and not coll:\n",
    "    #                                 print('1',c_ell)\n",
    "                            coll = c_ell\n",
    "    #                                 base.append(c_ell)\n",
    "\n",
    "                        elif coll and not res_end:\n",
    "    #                                 c_ell = str_to_float(c_ell)\n",
    "                            base.append(c_ell)\n",
    "    #                                 print('2',c_ell)\n",
    "                        elif res_end and coll:\n",
    "                            coll = ''\n",
    "    #                                 print('3',c_ell)\n",
    "                            base = test_sorted(base)\n",
    "                            return base\n",
    "    #                             else:\n",
    "    #                                 base.append(\"lol\")\n",
    "                    except Exception as e:\n",
    "                        print('in try', e)\n",
    "\n",
    "#     return base               \n",
    "#     except Exception as e:\n",
    "#         print(e)\n",
    "        \n",
    "\n",
    " "
   ]
  },
  {
   "cell_type": "code",
   "execution_count": 55,
   "metadata": {},
   "outputs": [],
   "source": [
    "def str_to_float(text):\n",
    "    try:\n",
    "        return float(text)\n",
    "    except Exception as e:\n",
    "        return text\n",
    "            "
   ]
  },
  {
   "cell_type": "code",
   "execution_count": 56,
   "metadata": {},
   "outputs": [],
   "source": [
    "def test_sorted(obj):\n",
    "    base = []\n",
    "    re_base = []\n",
    "    col = 5\n",
    "    col_pos = len(obj)/6\n",
    "#     obj.append('None')\n",
    "    if col_pos == abs(col_pos):\n",
    "        try:\n",
    "            for i in obj:       \n",
    "                if col:\n",
    "#                     print('ts if',i, col)\n",
    "                    re_base.append(i)\n",
    "                    col -= 1\n",
    "                elif not col:\n",
    "#                     print('ts else',i, col)\n",
    "                    re_base.append(i)\n",
    "                    base.append(re_base)\n",
    "                    re_base = []\n",
    "                    col = 5\n",
    "            print('all done.....base-list of product create')\n",
    "            print()\n",
    "            return base\n",
    "        except Exception as e:\n",
    "            print('test_sorted',e)\n",
    "        "
   ]
  },
  {
   "cell_type": "code",
   "execution_count": 57,
   "metadata": {},
   "outputs": [],
   "source": [
    "def add_bayway(product_list, *arg):\n",
    "    if type(product_list) == list: \n",
    "        product = product_list[::-1]\n",
    "        temp = []\n",
    "        temp.append(arg[0])\n",
    "        temp.append(arg[1])\n",
    "        product.append(temp)\n",
    "        product = product[::-1]\n",
    "        print('All done...bayer and waybill add to list')\n",
    "        print()\n",
    "        return product\n",
    "    else:\n",
    "        print('Wrong format in add_bauway')\n",
    "        return None"
   ]
  },
  {
   "cell_type": "code",
   "execution_count": 59,
   "metadata": {},
   "outputs": [
    {
     "name": "stdout",
     "output_type": "stream",
     "text": [
      "Connection succerfull\n",
      "\n",
      "Connection succerfull\n",
      "\n",
      "Connection succerfull\n",
      "\n",
      "all done.....base-list of product create\n",
      "\n",
      "All done...bayer and waybill add to list\n",
      "\n",
      "[['Товариство з обмеженою відповідальністю  \"Дід Сергій\"', 'Видаткова накладна № 572 від 20 березня 2020 р.'], ['1.0', 'какао-порошок JB-800', '0.025', 'т', '71000.0', '1775.0'], ['2.0', 'какао-порошок JB-800', '0.025', 'т', '71000.0', '1775.0'], ['3.0', 'какао-порошок JB-800', '0.025', 'т', '71000.0', '1775.0'], ['4.0', 'какао-порошок JB-800', '0.025', 'т', '71000.0', '1775.0'], ['5.0', 'какао-порошок JB-800', '0.025', 'т', '71000.0', '1775.0']]\n"
     ]
    }
   ],
   "source": [
    "# prod = product('Видаткова накладна № 786 від 22.05.2017 (3).xls')\n",
    "# print(type(product))\n",
    "bay = bayer('Видаткова накладна № 572 від 20.03.2020.xls')\n",
    "way = waybill('Видаткова накладна № 572 від 20.03.2020.xls')\n",
    "prod = product('Видаткова накладна № 572 від 20.03.2020.xls')\n",
    "prod =  add_bayway(prod, bay,way)\n",
    "\n",
    "# print(way)\n",
    "# print(bay)\n",
    "print(prod)"
   ]
  },
  {
   "cell_type": "code",
   "execution_count": null,
   "metadata": {},
   "outputs": [],
   "source": []
  },
  {
   "cell_type": "code",
   "execution_count": 57,
   "metadata": {},
   "outputs": [],
   "source": [
    "a = [1,2,3,4,5,6,7,8,9,10,11,12,13,14,15,16]\n",
    "col1 = 6\n",
    "col2 = 1\n",
    "base1 = []\n",
    "base2 = []\n",
    "for i in a:\n",
    "    if col1:\n",
    "        base1.append()\n",
    "    elif not col1:\n",
    "        pass\n",
    "    \n",
    "     "
   ]
  },
  {
   "cell_type": "code",
   "execution_count": 15,
   "metadata": {},
   "outputs": [
    {
     "ename": "NameError",
     "evalue": "name 'a' is not defined",
     "output_type": "error",
     "traceback": [
      "\u001b[1;31m---------------------------------------------------------------------------\u001b[0m",
      "\u001b[1;31mNameError\u001b[0m                                 Traceback (most recent call last)",
      "\u001b[1;32m<ipython-input-15-d71690f4e591>\u001b[0m in \u001b[0;36m<module>\u001b[1;34m\u001b[0m\n\u001b[1;32m----> 1\u001b[1;33m \u001b[0mprint\u001b[0m\u001b[1;33m(\u001b[0m\u001b[0ma\u001b[0m\u001b[1;33m)\u001b[0m\u001b[1;33m\u001b[0m\u001b[0m\n\u001b[0m\u001b[0;32m      2\u001b[0m \u001b[0mprint\u001b[0m\u001b[1;33m(\u001b[0m\u001b[0mb\u001b[0m\u001b[1;33m)\u001b[0m\u001b[1;33m\u001b[0m\u001b[0m\n\u001b[0;32m      3\u001b[0m \u001b[0mprint\u001b[0m\u001b[1;33m(\u001b[0m\u001b[0mc\u001b[0m\u001b[1;33m)\u001b[0m\u001b[1;33m\u001b[0m\u001b[0m\n",
      "\u001b[1;31mNameError\u001b[0m: name 'a' is not defined"
     ]
    }
   ],
   "source": [
    " "
   ]
  },
  {
   "cell_type": "code",
   "execution_count": 174,
   "metadata": {},
   "outputs": [
    {
     "name": "stdout",
     "output_type": "stream",
     "text": [
      "Connection succerfull\n",
      "Видаткова накладна № 572 від 20 березня 2020 р.\n"
     ]
    },
    {
     "data": {
      "text/plain": [
       "'Видаткова накладна № 572 від 20 березня 2020 р.'"
      ]
     },
     "execution_count": 174,
     "metadata": {},
     "output_type": "execute_result"
    }
   ],
   "source": [
    "waybill('Видаткова накладна № 572 від 20.03.2020.xls')"
   ]
  },
  {
   "cell_type": "code",
   "execution_count": 175,
   "metadata": {},
   "outputs": [
    {
     "name": "stdout",
     "output_type": "stream",
     "text": [
      "True\n"
     ]
    }
   ],
   "source": [
    "a = 4\n",
    "a += 1\n",
    "\n",
    "a = a - 4\n",
    "print(bool(a))"
   ]
  },
  {
   "cell_type": "code",
   "execution_count": null,
   "metadata": {},
   "outputs": [],
   "source": []
  }
 ],
 "metadata": {
  "celltoolbar": "Необработанный формат ячейки",
  "kernelspec": {
   "display_name": "Python 3",
   "language": "python",
   "name": "python3"
  },
  "language_info": {
   "codemirror_mode": {
    "name": "ipython",
    "version": 3
   },
   "file_extension": ".py",
   "mimetype": "text/x-python",
   "name": "python",
   "nbconvert_exporter": "python",
   "pygments_lexer": "ipython3",
   "version": "3.6.5"
  }
 },
 "nbformat": 4,
 "nbformat_minor": 4
}
