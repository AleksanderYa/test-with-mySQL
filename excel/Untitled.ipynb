{
 "cells": [
  {
   "cell_type": "code",
   "execution_count": 30,
   "metadata": {},
   "outputs": [
    {
     "name": "stdout",
     "output_type": "stream",
     "text": [
      "On branch workplace\n",
      "Changes to be committed:\n",
      "  (use \"git restore --staged <file>...\" to unstage)\n",
      "\tmodified:   .ipynb_checkpoints/Untitled-checkpoint.ipynb\n",
      "\tmodified:   Untitled.ipynb\n",
      "\n",
      "Changes not staged for commit:\n",
      "  (use \"git add <file>...\" to update what will be committed)\n",
      "  (use \"git restore <file>...\" to discard changes in working directory)\n",
      "\tmodified:   Untitled.ipynb\n",
      "\n"
     ]
    }
   ],
   "source": [
    "!git status\n",
    "\n"
   ]
  },
  {
   "cell_type": "code",
   "execution_count": 31,
   "metadata": {},
   "outputs": [
    {
     "name": "stderr",
     "output_type": "stream",
     "text": [
      "warning: LF will be replaced by CRLF in excel/Untitled.ipynb.\n",
      "The file will have its original line endings in your working directory\n"
     ]
    }
   ],
   "source": [
    "!git add ."
   ]
  },
  {
   "cell_type": "code",
   "execution_count": 32,
   "metadata": {},
   "outputs": [
    {
     "name": "stdout",
     "output_type": "stream",
     "text": [
      "2021-05-20 12:51:56\n",
      "[workplace 36d1c4d] 0.format(time)\n",
      " 2 files changed, 131 insertions(+), 245 deletions(-)\n"
     ]
    }
   ],
   "source": [
    "from datetime import datetime as dt\n",
    "\n",
    "time = str(dt.now())\n",
    "time = a[:19]\n",
    "print(time)\n",
    "\n",
    "!git commit -m \"{0}\".format(time)"
   ]
  },
  {
   "cell_type": "code",
   "execution_count": null,
   "metadata": {},
   "outputs": [],
   "source": [
    "!git push origin workplace"
   ]
  },
  {
   "cell_type": "code",
   "execution_count": 42,
   "metadata": {},
   "outputs": [],
   "source": [
    "!git config  user.password\n"
   ]
  },
  {
   "cell_type": "code",
   "execution_count": 1,
   "metadata": {},
   "outputs": [],
   "source": [
    "import xlrd\n",
    "import re"
   ]
  },
  {
   "cell_type": "code",
   "execution_count": 2,
   "metadata": {},
   "outputs": [],
   "source": [
    "def connect(func):\n",
    "    def wrapper(*arg, **kwarg):\n",
    "        try:\n",
    "            arge = arg[0]\n",
    "            if type(arge) == str:\n",
    "                rb = xlrd.open_workbook(arge, formatting_info=True)\n",
    "                sheet = rb.sheet_by_index(0)\n",
    "                print('Connection succerfull')\n",
    "                res = func(sheet,*arg, **kwarg)\n",
    "                return res\n",
    "            else:\n",
    "                print('wrong format text to connect')\n",
    "        except Exception as e:\n",
    "            print('connect',e) \n",
    "    return wrapper"
   ]
  },
  {
   "cell_type": "code",
   "execution_count": 13,
   "metadata": {},
   "outputs": [],
   "source": [
    "@connect\n",
    "def waybill(sheet, text):\n",
    "    coll = ''\n",
    "    for rownum in range(sheet.nrows):\n",
    "        row = sheet.row_values(rownum)\n",
    "        for c_ell in row:\n",
    "            try:\n",
    "                if c_ell:\n",
    "                    reg_text = r'Видаткова накладна'\n",
    "                    res = re.match(reg_text, c_ell)\n",
    "                    if res and not coll:\n",
    "                        coll = c_ell\n",
    "                        print(coll)\n",
    "                        return c_ell\n",
    "            except Exception as e:\n",
    "                pass\n",
    "            \n",
    "            \n",
    "@connect\n",
    "def bayer(sheet, text):\n",
    "    col = ''\n",
    "    col2 = ''\n",
    "    print(type(sheet))\n",
    "    for rownum in range(sheet.nrows):\n",
    "        finded_text = r'Покупець:'\n",
    "        row = sheet.row_values(rownum)\n",
    "        for c_el in row:\n",
    "            try:\n",
    "                if c_el:\n",
    "                    res = re.match(finded_text, c_el)\n",
    "                    if res and not col:\n",
    "                        col = c_el\n",
    "                    elif col and c_el and not col2:\n",
    "                        print(c_el)\n",
    "                        col2 = c_el\n",
    "                        return c_el           \n",
    "            except Exception as e:\n",
    "                pass\n",
    "#\n",
    "            \n",
    "@connect\n",
    "def test(sheet, text):\n",
    "    try:\n",
    "        coll = ''\n",
    "        base = []\n",
    "        for rownum in range(sheet.nrows):\n",
    "            row = sheet.row_values(rownum)\n",
    "            for c_ell in row:\n",
    "#                 try:\n",
    "#                     print(c_ell)\n",
    "                    if c_ell:\n",
    "                        c_ell = str(c_ell)\n",
    "    #                         print(c_ell)\n",
    "                        try:\n",
    "\n",
    "                            reg_text = r'Сума без ПДВ'\n",
    "                            reg_end_text = r'Всього:'\n",
    "                            res = re.match(reg_text, c_ell)\n",
    "                            res_end = re.search(reg_end_text, c_ell)\n",
    "                            print(res, '----------', coll)\n",
    "                            if res and not coll:\n",
    "                                print('1',c_ell)\n",
    "                                coll = c_ell\n",
    "#                                 base.append(c_ell)\n",
    "\n",
    "                            elif coll and not res_end:\n",
    "                                c_ell = str_to_float(c_ell)\n",
    "                                base.append(c_ell)\n",
    "                                print('2',c_ell)\n",
    "                            elif res_end and coll:\n",
    "                                coll = ''\n",
    "                                print('3',c_ell)\n",
    "                                return base\n",
    "#                             else:\n",
    "#                                 base.append(\"lol\")\n",
    "                        except Exception as e:\n",
    "                            print('in try', e)\n",
    "\n",
    "#         return base               \n",
    "    except Exception as e:\n",
    "        print(e)\n",
    "def str_to_float(text):\n",
    "    try:\n",
    "        return float(text)\n",
    "    except Exception as e:\n",
    "        return text\n",
    "        pass\n",
    "            \n",
    " "
   ]
  },
  {
   "cell_type": "code",
   "execution_count": 14,
   "metadata": {},
   "outputs": [
    {
     "name": "stdout",
     "output_type": "stream",
     "text": [
      "Connection succerfull\n",
      "None ---------- \n",
      "None ---------- \n",
      "None ---------- \n",
      "None ---------- \n",
      "None ---------- \n",
      "None ---------- \n",
      "None ---------- \n",
      "None ---------- \n",
      "None ---------- \n",
      "None ---------- \n",
      "None ---------- \n",
      "None ---------- \n",
      "None ---------- \n",
      "None ---------- \n",
      "None ---------- \n",
      "None ---------- \n",
      "None ---------- \n",
      "None ---------- \n",
      "<_sre.SRE_Match object; span=(0, 12), match='Сума без ПДВ'> ---------- \n",
      "1 Сума без ПДВ\n",
      "None ---------- Сума без ПДВ\n",
      "2 1.0\n",
      "None ---------- Сума без ПДВ\n",
      "2 какао-порошок  Schokinag S-85\n",
      "None ---------- Сума без ПДВ\n",
      "2 2.0\n",
      "None ---------- Сума без ПДВ\n",
      "2 т\n",
      "None ---------- Сума без ПДВ\n",
      "2 65420.0\n",
      "None ---------- Сума без ПДВ\n",
      "2 130840.0\n",
      "None ---------- Сума без ПДВ\n",
      "2 2.0\n",
      "None ---------- Сума без ПДВ\n",
      "2 Какао - терте Choco-Ivoire 1803100000\n",
      "None ---------- Сума без ПДВ\n",
      "2 0.5\n",
      "None ---------- Сума без ПДВ\n",
      "2 т\n",
      "None ---------- Сума без ПДВ\n",
      "2 102000.0\n",
      "None ---------- Сума без ПДВ\n",
      "2 51000.0\n",
      "None ---------- Сума без ПДВ\n",
      "2 3.0\n",
      "None ---------- Сума без ПДВ\n",
      "2 Какао-порошок  Schokinag, SN 10-12%  1805000010\n",
      "None ---------- Сума без ПДВ\n",
      "2 1.0\n",
      "None ---------- Сума без ПДВ\n",
      "2 т\n",
      "None ---------- Сума без ПДВ\n",
      "2 61250.0\n",
      "None ---------- Сума без ПДВ\n",
      "2 61250.0\n",
      "None ---------- Сума без ПДВ\n",
      "3 Всього:\n",
      "[1.0, 'какао-порошок  Schokinag S-85', 2.0, 'т', 65420.0, 130840.0, 2.0, 'Какао - терте Choco-Ivoire 1803100000', 0.5, 'т', 102000.0, 51000.0, 3.0, 'Какао-порошок  Schokinag, SN 10-12%  1805000010', 1.0, 'т', 61250.0, 61250.0]\n"
     ]
    }
   ],
   "source": [
    "# a = bayer('Видаткова накладна № 276 від 11.02.2021.xls')\n",
    "# b = bayer('Видаткова накладна № 572 від 20.03.2020.xls')\n",
    "c = test('Видаткова накладна № 786 від 22.05.2017 (3).xls')\n",
    "print(c)"
   ]
  },
  {
   "cell_type": "code",
   "execution_count": 15,
   "metadata": {},
   "outputs": [
    {
     "name": "stdout",
     "output_type": "stream",
     "text": [
      "Три ведмеді ТзОВ\n",
      "Товариство з обмеженою відповідальністю  \"Дід Сергій\"\n",
      "[1.0, 'какао-порошок  Schokinag S-85', 2.0, 'т', 65420.0, 130840.0, 2.0, 'Какао - терте Choco-Ivoire 1803100000', 0.5, 'т', 102000.0, 51000.0, 3.0, 'Какао-порошок  Schokinag, SN 10-12%  1805000010', 1.0, 'т', 61250.0, 61250.0]\n"
     ]
    }
   ],
   "source": [
    "print(a)\n",
    "print(b)    \n",
    "print(c)"
   ]
  },
  {
   "cell_type": "code",
   "execution_count": 174,
   "metadata": {},
   "outputs": [
    {
     "name": "stdout",
     "output_type": "stream",
     "text": [
      "Connection succerfull\n",
      "Видаткова накладна № 572 від 20 березня 2020 р.\n"
     ]
    },
    {
     "data": {
      "text/plain": [
       "'Видаткова накладна № 572 від 20 березня 2020 р.'"
      ]
     },
     "execution_count": 174,
     "metadata": {},
     "output_type": "execute_result"
    }
   ],
   "source": [
    "waybill('Видаткова накладна № 572 від 20.03.2020.xls')"
   ]
  },
  {
   "cell_type": "code",
   "execution_count": 175,
   "metadata": {},
   "outputs": [
    {
     "name": "stdout",
     "output_type": "stream",
     "text": [
      "True\n"
     ]
    }
   ],
   "source": [
    "a = 4\n",
    "a += 1\n",
    "\n",
    "a = a - 4\n",
    "print(bool(a))"
   ]
  },
  {
   "cell_type": "code",
   "execution_count": null,
   "metadata": {},
   "outputs": [],
   "source": []
  }
 ],
 "metadata": {
  "celltoolbar": "Необработанный формат ячейки",
  "kernelspec": {
   "display_name": "Python 3",
   "language": "python",
   "name": "python3"
  },
  "language_info": {
   "codemirror_mode": {
    "name": "ipython",
    "version": 3
   },
   "file_extension": ".py",
   "mimetype": "text/x-python",
   "name": "python",
   "nbconvert_exporter": "python",
   "pygments_lexer": "ipython3",
   "version": "3.6.5"
  }
 },
 "nbformat": 4,
 "nbformat_minor": 4
}
